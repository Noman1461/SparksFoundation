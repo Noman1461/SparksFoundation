{
 "cells": [
  {
   "cell_type": "markdown",
   "id": "631aa9fb-91dc-454a-8a5d-84cf704b9715",
   "metadata": {},
   "source": [
    "# __The Sparks Foundation Data Science and AI Internship__\n",
    "## Task 1: Linear Regression with 2 variables\n",
    "### Predict the score, if student studies for 9.25 hours\n",
    "#### __Steps__:\n",
    "<ol>\n",
    "    <li> Import Libraries and Data </li>\n",
    "    <li> Visualize the Data     </li>\n",
    "    <li>Prepare the data</li>\n",
    "    <li>Train the model</li>\n",
    "    <li>Fit on the model</li>\n",
    "    <li>Predict</li>\n",
    "</ol>"
   ]
  },
  {
   "cell_type": "code",
   "execution_count": 2,
   "id": "b2e08876-8d35-4d14-aea6-00e353fcd915",
   "metadata": {},
   "outputs": [],
   "source": [
    "#importing libraries\n",
    "import numpy as np\n",
    "import pandas as pd\n",
    "import matplotlib.pyplot as plt\n",
    "%matplotlib inline\n",
    "import seaborn as sns\n",
    "from sklearn.linear_model import LinearRegression\n",
    "from sklearn.metrics import mean_squared_error\n",
    "from sklearn.model_selection import train_test_split"
   ]
  },
  {
   "cell_type": "code",
   "execution_count": 3,
   "id": "5c095e50-2504-43a9-9f05-31b564a94ae9",
   "metadata": {},
   "outputs": [
    {
     "data": {
      "text/html": [
       "<div>\n",
       "<style scoped>\n",
       "    .dataframe tbody tr th:only-of-type {\n",
       "        vertical-align: middle;\n",
       "    }\n",
       "\n",
       "    .dataframe tbody tr th {\n",
       "        vertical-align: top;\n",
       "    }\n",
       "\n",
       "    .dataframe thead th {\n",
       "        text-align: right;\n",
       "    }\n",
       "</style>\n",
       "<table border=\"1\" class=\"dataframe\">\n",
       "  <thead>\n",
       "    <tr style=\"text-align: right;\">\n",
       "      <th></th>\n",
       "      <th>Hours</th>\n",
       "      <th>Scores</th>\n",
       "    </tr>\n",
       "  </thead>\n",
       "  <tbody>\n",
       "    <tr>\n",
       "      <th>0</th>\n",
       "      <td>2.5</td>\n",
       "      <td>21</td>\n",
       "    </tr>\n",
       "    <tr>\n",
       "      <th>1</th>\n",
       "      <td>5.1</td>\n",
       "      <td>47</td>\n",
       "    </tr>\n",
       "    <tr>\n",
       "      <th>2</th>\n",
       "      <td>3.2</td>\n",
       "      <td>27</td>\n",
       "    </tr>\n",
       "    <tr>\n",
       "      <th>3</th>\n",
       "      <td>8.5</td>\n",
       "      <td>75</td>\n",
       "    </tr>\n",
       "    <tr>\n",
       "      <th>4</th>\n",
       "      <td>3.5</td>\n",
       "      <td>30</td>\n",
       "    </tr>\n",
       "  </tbody>\n",
       "</table>\n",
       "</div>"
      ],
      "text/plain": [
       "   Hours  Scores\n",
       "0    2.5      21\n",
       "1    5.1      47\n",
       "2    3.2      27\n",
       "3    8.5      75\n",
       "4    3.5      30"
      ]
     },
     "execution_count": 3,
     "metadata": {},
     "output_type": "execute_result"
    }
   ],
   "source": [
    "# and importing data\n",
    "url = \"https://raw.githubusercontent.com/AdiPersonalWorks/Random/master/student_scores%20-%20student_scores.csv\"\n",
    "\n",
    "data = pd.read_csv(url)\n",
    "\n",
    "data.head()"
   ]
  },
  {
   "cell_type": "markdown",
   "id": "97b140fc-3cbc-4315-9a53-8928a8198b88",
   "metadata": {},
   "source": [
    "### _Visualizing the data using Seaborn as sns_"
   ]
  },
  {
   "cell_type": "code",
   "execution_count": 4,
   "id": "1e03fa68-b152-453a-a144-9ec2bc576b3c",
   "metadata": {},
   "outputs": [
    {
     "data": {
      "image/png": "[encoded data removed]",
      "text/plain": [
       "<Figure size 432x288 with 1 Axes>"
      ]
     },
     "metadata": {
      "needs_background": "light"
     },
     "output_type": "display_data"
    }
   ],
   "source": [
    "sns.regplot(data=data,x=\"Hours\",y=\"Scores\")\n",
    "plt.title(\"Scores V/S Hours of Study\")\n",
    "plt.show()"
   ]
  },
  {
   "cell_type": "markdown",
   "id": "aa742d1d-2242-41f7-8dc7-0c4f366d81b1",
   "metadata": {},
   "source": [
    "### Understaning the correlation"
   ]
  },
  {
   "cell_type": "code",
   "execution_count": 10,
   "id": "80aa2124-4f0b-4207-8a0b-b8d296e09e5b",
   "metadata": {},
   "outputs": [
    {
     "data": {
      "text/html": [
       "<div>\n",
       "<style scoped>\n",
       "    .dataframe tbody tr th:only-of-type {\n",
       "        vertical-align: middle;\n",
       "    }\n",
       "\n",
       "    .dataframe tbody tr th {\n",
       "        vertical-align: top;\n",
       "    }\n",
       "\n",
       "    .dataframe thead th {\n",
       "        text-align: right;\n",
       "    }\n",
       "</style>\n",
       "<table border=\"1\" class=\"dataframe\">\n",
       "  <thead>\n",
       "    <tr style=\"text-align: right;\">\n",
       "      <th></th>\n",
       "      <th>Hours</th>\n",
       "      <th>Scores</th>\n",
       "    </tr>\n",
       "  </thead>\n",
       "  <tbody>\n",
       "    <tr>\n",
       "      <th>Hours</th>\n",
       "      <td>1.000000</td>\n",
       "      <td>0.976191</td>\n",
       "    </tr>\n",
       "    <tr>\n",
       "      <th>Scores</th>\n",
       "      <td>0.976191</td>\n",
       "      <td>1.000000</td>\n",
       "    </tr>\n",
       "  </tbody>\n",
       "</table>\n",
       "</div>"
      ],
      "text/plain": [
       "           Hours    Scores\n",
       "Hours   1.000000  0.976191\n",
       "Scores  0.976191  1.000000"
      ]
     },
     "execution_count": 10,
     "metadata": {},
     "output_type": "execute_result"
    }
   ],
   "source": [
    "data.corr()"
   ]
  },
  {
   "cell_type": "markdown",
   "id": "edea652a-cdbf-41ac-a77e-4f155b770a88",
   "metadata": {},
   "source": [
    "\"So, There is a high +ve correlation of score in exams i.e 0.9762 to hours of study\""
   ]
  },
  {
   "cell_type": "markdown",
   "id": "877f8bb2-d556-4a61-9a5c-68cfd18243f4",
   "metadata": {},
   "source": [
    "### _Spliting the  data into Inputs and Outputs_"
   ]
  },
  {
   "cell_type": "code",
   "execution_count": 5,
   "id": "e9efe54c-bb0f-4ead-841e-74e7478b668b",
   "metadata": {},
   "outputs": [],
   "source": [
    "X = data[\"Hours\"].values.reshape(-1,1)\n",
    "y = data[\"Scores\"].values.reshape(-1,1)"
   ]
  },
  {
   "cell_type": "markdown",
   "id": "6464ffe2-3a15-4749-a371-f2c103766386",
   "metadata": {},
   "source": [
    "### _Training and Testing Data_"
   ]
  },
  {
   "cell_type": "code",
   "execution_count": 6,
   "id": "bf6fe147-c6c9-4011-a411-51cec4f7a4c8",
   "metadata": {},
   "outputs": [],
   "source": [
    "Xtrain, Xtest, Ytrain, Ytest = train_test_split(X,y ,train_size=0.7,random_state=42)"
   ]
  },
  {
   "cell_type": "markdown",
   "id": "92cb6367-9478-4e87-90c3-c5ee739cd371",
   "metadata": {},
   "source": [
    "### _Creating a Linear Regreesion model __reg__ and training it using fit_ "
   ]
  },
  {
   "cell_type": "code",
   "execution_count": 7,
   "id": "d7420e7f-37f4-4dbc-88cd-b0bc462cc0c8",
   "metadata": {},
   "outputs": [
    {
     "name": "stdout",
     "output_type": "stream",
     "text": [
      "Model Trained\n"
     ]
    }
   ],
   "source": [
    "reg = LinearRegression()\n",
    "reg.fit(Xtrain,Ytrain)\n",
    "print(\"Model Trained\")"
   ]
  },
  {
   "cell_type": "markdown",
   "id": "4a5c738b-e1b8-4dfe-ac49-a3abac4126a5",
   "metadata": {},
   "source": [
    "### _Predicting the Values_"
   ]
  },
  {
   "cell_type": "code",
   "execution_count": 8,
   "id": "68e5c01f-1a5f-4f49-88a0-553707e6c8d9",
   "metadata": {},
   "outputs": [
    {
     "data": {
      "text/plain": [
       "(8, 1)"
      ]
     },
     "execution_count": 8,
     "metadata": {},
     "output_type": "execute_result"
    }
   ],
   "source": [
    "y_predict = reg.predict(Xtest)\n",
    "y_predict.shape"
   ]
  },
  {
   "cell_type": "markdown",
   "id": "f371a9e1-af35-499c-acf3-0ab532587ed3",
   "metadata": {},
   "source": [
    "### _Comparing Predicted Values With Actual Values_"
   ]
  },
  {
   "cell_type": "code",
   "execution_count": 9,
   "id": "a1083977-ee5e-401d-8326-dfe08c1fc6cd",
   "metadata": {},
   "outputs": [
    {
     "data": {
      "text/html": [
       "<div>\n",
       "<style scoped>\n",
       "    .dataframe tbody tr th:only-of-type {\n",
       "        vertical-align: middle;\n",
       "    }\n",
       "\n",
       "    .dataframe tbody tr th {\n",
       "        vertical-align: top;\n",
       "    }\n",
       "\n",
       "    .dataframe thead th {\n",
       "        text-align: right;\n",
       "    }\n",
       "</style>\n",
       "<table border=\"1\" class=\"dataframe\">\n",
       "  <thead>\n",
       "    <tr style=\"text-align: right;\">\n",
       "      <th></th>\n",
       "      <th>Actual</th>\n",
       "      <th>Predicted</th>\n",
       "    </tr>\n",
       "  </thead>\n",
       "  <tbody>\n",
       "    <tr>\n",
       "      <th>0</th>\n",
       "      <td>81</td>\n",
       "      <td>83.391686</td>\n",
       "    </tr>\n",
       "    <tr>\n",
       "      <th>1</th>\n",
       "      <td>30</td>\n",
       "      <td>27.070549</td>\n",
       "    </tr>\n",
       "    <tr>\n",
       "      <th>2</th>\n",
       "      <td>21</td>\n",
       "      <td>27.070549</td>\n",
       "    </tr>\n",
       "    <tr>\n",
       "      <th>3</th>\n",
       "      <td>76</td>\n",
       "      <td>69.796929</td>\n",
       "    </tr>\n",
       "    <tr>\n",
       "      <th>4</th>\n",
       "      <td>62</td>\n",
       "      <td>60.086388</td>\n",
       "    </tr>\n",
       "    <tr>\n",
       "      <th>5</th>\n",
       "      <td>25</td>\n",
       "      <td>29.012657</td>\n",
       "    </tr>\n",
       "    <tr>\n",
       "      <th>6</th>\n",
       "      <td>42</td>\n",
       "      <td>34.838982</td>\n",
       "    </tr>\n",
       "    <tr>\n",
       "      <th>7</th>\n",
       "      <td>47</td>\n",
       "      <td>52.317955</td>\n",
       "    </tr>\n",
       "  </tbody>\n",
       "</table>\n",
       "</div>"
      ],
      "text/plain": [
       "   Actual  Predicted\n",
       "0      81  83.391686\n",
       "1      30  27.070549\n",
       "2      21  27.070549\n",
       "3      76  69.796929\n",
       "4      62  60.086388\n",
       "5      25  29.012657\n",
       "6      42  34.838982\n",
       "7      47  52.317955"
      ]
     },
     "execution_count": 9,
     "metadata": {},
     "output_type": "execute_result"
    }
   ],
   "source": [
    "new_df = pd.DataFrame({'Actual':Ytest.flatten(),'Predicted':y_predict.flatten()})\n",
    "new_df"
   ]
  },
  {
   "cell_type": "markdown",
   "id": "f9771dde-8263-4a19-bfa6-d1dd1cb8de60",
   "metadata": {},
   "source": [
    "### _Now, Let predict what will be the score, if student studies 9.25 hrs_"
   ]
  },
  {
   "cell_type": "code",
   "execution_count": 11,
   "id": "aab1f254-e208-4dfa-9634-3ca9bb61ce44",
   "metadata": {},
   "outputs": [
    {
     "name": "stdout",
     "output_type": "stream",
     "text": [
      "\n",
      "No of Hours:9.25\n",
      "Marks predicted: 92.61670033840096\n"
     ]
    }
   ],
   "source": [
    "hours = np.array(9.25).reshape(-1,1)\n",
    "predicted = reg.predict(hours)\n",
    "print(f'''\n",
    "No of Hours:{hours.flatten()[0]}\n",
    "Marks predicted: {predicted.flatten()[0]}''')"
   ]
  },
  {
   "cell_type": "markdown",
   "id": "09642007-2f53-4e12-b4d9-4903a64bd5dc",
   "metadata": {},
   "source": [
    "### _Evaluate the model_ "
   ]
  },
  {
   "cell_type": "code",
   "execution_count": 12,
   "id": "635c9955-c6b6-4b22-a83f-54a0686e6108",
   "metadata": {},
   "outputs": [
    {
     "name": "stdout",
     "output_type": "stream",
     "text": [
      "R^2: 0.9487647340257012\n",
      "Root mean squared error: 4.859985351228103\n"
     ]
    }
   ],
   "source": [
    "print(\"R^2: {}\".format(reg.score(Xtest,Ytest)))\n",
    "rmse = np.sqrt(mean_squared_error(Ytest,y_predict))\n",
    "print(\"Root mean squared error: {}\".format(rmse))"
   ]
  },
  {
   "cell_type": "code",
   "execution_count": null,
   "id": "58428f78-3842-4486-8f42-d6ca7b7d1f44",
   "metadata": {},
   "outputs": [],
   "source": []
  }
 ],
 "metadata": {
  "kernelspec": {
   "display_name": "Python 3 (ipykernel)",
   "language": "python",
   "name": "python3"
  },
  "language_info": {
   "codemirror_mode": {
    "name": "ipython",
    "version": 3
   },
   "file_extension": ".py",
   "mimetype": "text/x-python",
   "name": "python",
   "nbconvert_exporter": "python",
   "pygments_lexer": "ipython3",
   "version": "3.10.11"
  }
 },
 "nbformat": 4,
 "nbformat_minor": 5
}
